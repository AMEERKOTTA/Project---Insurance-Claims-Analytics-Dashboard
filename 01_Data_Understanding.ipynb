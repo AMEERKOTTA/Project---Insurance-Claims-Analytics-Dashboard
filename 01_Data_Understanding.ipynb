{
 "cells": [
  {
   "cell_type": "markdown",
   "id": "91b281f2-8585-4bef-8ded-68de181206ac",
   "metadata": {},
   "source": [
    "## **Data Understanding**\n",
    "\n",
    "+ In the columns Vehicle Model (98) and Operation Assign Date (31) is the missing values.\n",
    "+ Removed the missing values rows to make the data ready for analysis."
   ]
  },
  {
   "cell_type": "code",
   "execution_count": 1,
   "id": "47bb4d02-4a2f-4513-8f59-4f97d829c4d3",
   "metadata": {},
   "outputs": [],
   "source": [
    "import pandas as pd"
   ]
  },
  {
   "cell_type": "markdown",
   "id": "fdc12d80-279f-4ccb-91f7-a28f00c296f7",
   "metadata": {},
   "source": [
    "### **Load the Data**"
   ]
  },
  {
   "cell_type": "code",
   "execution_count": 16,
   "id": "af7af350-2aaf-45ba-9cd0-f63ada6afce9",
   "metadata": {},
   "outputs": [
    {
     "name": "stderr",
     "output_type": "stream",
     "text": [
      "C:\\Users\\Faiz Salam\\AppData\\Local\\Temp\\ipykernel_17960\\1125533192.py:7: SettingWithCopyWarning: \n",
      "A value is trying to be set on a copy of a slice from a DataFrame.\n",
      "Try using .loc[row_indexer,col_indexer] = value instead\n",
      "\n",
      "See the caveats in the documentation: https://pandas.pydata.org/pandas-docs/stable/user_guide/indexing.html#returning-a-view-versus-a-copy\n",
      "  claim_df['Claim Reg Date'] = claim_df['Claim Reg Date'].astype(str)\n",
      "C:\\Users\\Faiz Salam\\AppData\\Local\\Temp\\ipykernel_17960\\1125533192.py:8: SettingWithCopyWarning: \n",
      "A value is trying to be set on a copy of a slice from a DataFrame.\n",
      "Try using .loc[row_indexer,col_indexer] = value instead\n",
      "\n",
      "See the caveats in the documentation: https://pandas.pydata.org/pandas-docs/stable/user_guide/indexing.html#returning-a-view-versus-a-copy\n",
      "  claim_df['Operation Assign Date'] = claim_df['Operation Assign Date'].astype(str)\n",
      "C:\\Users\\Faiz Salam\\AppData\\Local\\Temp\\ipykernel_17960\\1125533192.py:10: SettingWithCopyWarning: \n",
      "A value is trying to be set on a copy of a slice from a DataFrame.\n",
      "Try using .loc[row_indexer,col_indexer] = value instead\n",
      "\n",
      "See the caveats in the documentation: https://pandas.pydata.org/pandas-docs/stable/user_guide/indexing.html#returning-a-view-versus-a-copy\n",
      "  claim_df['Claim Reg Date'] = claim_df['Claim Reg Date'].str.strip().str[:10]\n",
      "C:\\Users\\Faiz Salam\\AppData\\Local\\Temp\\ipykernel_17960\\1125533192.py:11: SettingWithCopyWarning: \n",
      "A value is trying to be set on a copy of a slice from a DataFrame.\n",
      "Try using .loc[row_indexer,col_indexer] = value instead\n",
      "\n",
      "See the caveats in the documentation: https://pandas.pydata.org/pandas-docs/stable/user_guide/indexing.html#returning-a-view-versus-a-copy\n",
      "  claim_df['Operation Assign Date'] = claim_df['Operation Assign Date'].str.strip().str[:10]\n",
      "C:\\Users\\Faiz Salam\\AppData\\Local\\Temp\\ipykernel_17960\\1125533192.py:14: SettingWithCopyWarning: \n",
      "A value is trying to be set on a copy of a slice from a DataFrame.\n",
      "Try using .loc[row_indexer,col_indexer] = value instead\n",
      "\n",
      "See the caveats in the documentation: https://pandas.pydata.org/pandas-docs/stable/user_guide/indexing.html#returning-a-view-versus-a-copy\n",
      "  claim_df['Claim Reg Date'] = pd.to_datetime(claim_df['Claim Reg Date'], format='%d/%m/%Y', errors='coerce')\n",
      "C:\\Users\\Faiz Salam\\AppData\\Local\\Temp\\ipykernel_17960\\1125533192.py:15: SettingWithCopyWarning: \n",
      "A value is trying to be set on a copy of a slice from a DataFrame.\n",
      "Try using .loc[row_indexer,col_indexer] = value instead\n",
      "\n",
      "See the caveats in the documentation: https://pandas.pydata.org/pandas-docs/stable/user_guide/indexing.html#returning-a-view-versus-a-copy\n",
      "  claim_df['Operation Assign Date'] = pd.to_datetime(claim_df['Operation Assign Date'], format='%d/%m/%Y', errors='coerce')\n",
      "C:\\Users\\Faiz Salam\\AppData\\Local\\Temp\\ipykernel_17960\\1125533192.py:18: SettingWithCopyWarning: \n",
      "A value is trying to be set on a copy of a slice from a DataFrame.\n",
      "Try using .loc[row_indexer,col_indexer] = value instead\n",
      "\n",
      "See the caveats in the documentation: https://pandas.pydata.org/pandas-docs/stable/user_guide/indexing.html#returning-a-view-versus-a-copy\n",
      "  claim_df['TimeDifference'] = (claim_df['Operation Assign Date'] - claim_df['Claim Reg Date']).dt.days\n"
     ]
    }
   ],
   "source": [
    "## load the data into pandas dataframe\n",
    "## use the encoding to deal with UnicodeDecodeError\n",
    "claim_data = pd.read_csv('car_data.csv', encoding='latin1')\n",
    "# Remove rows with missing values\n",
    "claim_df = claim_data.dropna()\n",
    "# Convert all values to string first to ensure compatibility with .str accessor\n",
    "claim_df['Claim Reg Date'] = claim_df['Claim Reg Date'].astype(str)\n",
    "claim_df['Operation Assign Date'] = claim_df['Operation Assign Date'].astype(str)\n",
    "# Remove time part if it's causing issues and only keep the date\n",
    "claim_df['Claim Reg Date'] = claim_df['Claim Reg Date'].str.strip().str[:10]\n",
    "claim_df['Operation Assign Date'] = claim_df['Operation Assign Date'].str.strip().str[:10]\n",
    "\n",
    "# Convert the date strings back to datetime format\n",
    "claim_df['Claim Reg Date'] = pd.to_datetime(claim_df['Claim Reg Date'], format='%d/%m/%Y', errors='coerce')\n",
    "claim_df['Operation Assign Date'] = pd.to_datetime(claim_df['Operation Assign Date'], format='%d/%m/%Y', errors='coerce')\n",
    "\n",
    "# Calculate the difference in days and create a new column 'TimeDifference'\n",
    "claim_df['TimeDifference'] = (claim_df['Operation Assign Date'] - claim_df['Claim Reg Date']).dt.days"
   ]
  },
  {
   "cell_type": "code",
   "execution_count": 17,
   "id": "67aed9b1-5d0c-4887-a893-ee72a059c289",
   "metadata": {},
   "outputs": [
    {
     "data": {
      "text/plain": [
       "Vehicle Make Year                  int64\n",
       "Vehicle Make                      object\n",
       "Vehicle Model                     object\n",
       "Claim Reg Date            datetime64[ns]\n",
       "Accident Place                    object\n",
       "Operation Assign Date     datetime64[ns]\n",
       "Portal_OtherAmt                    int64\n",
       "Portal_PartProviderAmt           float64\n",
       "Portal_WorkShopAmt               float64\n",
       "Total                            float64\n",
       "TimeDifference                     int64\n",
       "dtype: object"
      ]
     },
     "execution_count": 17,
     "metadata": {},
     "output_type": "execute_result"
    }
   ],
   "source": [
    "## take the basic info of the data\n",
    "claim_df.dtypes"
   ]
  },
  {
   "cell_type": "code",
   "execution_count": 18,
   "id": "b2964082-3980-4ae1-a0ef-f536986c442a",
   "metadata": {},
   "outputs": [
    {
     "data": {
      "text/html": [
       "<div>\n",
       "<style scoped>\n",
       "    .dataframe tbody tr th:only-of-type {\n",
       "        vertical-align: middle;\n",
       "    }\n",
       "\n",
       "    .dataframe tbody tr th {\n",
       "        vertical-align: top;\n",
       "    }\n",
       "\n",
       "    .dataframe thead th {\n",
       "        text-align: right;\n",
       "    }\n",
       "</style>\n",
       "<table border=\"1\" class=\"dataframe\">\n",
       "  <thead>\n",
       "    <tr style=\"text-align: right;\">\n",
       "      <th></th>\n",
       "      <th>Vehicle Make Year</th>\n",
       "      <th>Vehicle Make</th>\n",
       "      <th>Vehicle Model</th>\n",
       "      <th>Claim Reg Date</th>\n",
       "      <th>Accident Place</th>\n",
       "      <th>Operation Assign Date</th>\n",
       "      <th>Portal_OtherAmt</th>\n",
       "      <th>Portal_PartProviderAmt</th>\n",
       "      <th>Portal_WorkShopAmt</th>\n",
       "      <th>Total</th>\n",
       "      <th>TimeDifference</th>\n",
       "    </tr>\n",
       "  </thead>\n",
       "  <tbody>\n",
       "    <tr>\n",
       "      <th>0</th>\n",
       "      <td>2019</td>\n",
       "      <td>DODGE</td>\n",
       "      <td>CHARGER</td>\n",
       "      <td>2023-08-02</td>\n",
       "      <td>Abha</td>\n",
       "      <td>2023-08-03</td>\n",
       "      <td>366</td>\n",
       "      <td>2000.0</td>\n",
       "      <td>588.0</td>\n",
       "      <td>2954.0</td>\n",
       "      <td>1</td>\n",
       "    </tr>\n",
       "    <tr>\n",
       "      <th>1</th>\n",
       "      <td>2023</td>\n",
       "      <td>Mahindra</td>\n",
       "      <td>Scorpio DC</td>\n",
       "      <td>2023-06-14</td>\n",
       "      <td>Abha</td>\n",
       "      <td>2023-08-22</td>\n",
       "      <td>494</td>\n",
       "      <td>3287.0</td>\n",
       "      <td>738.0</td>\n",
       "      <td>4519.0</td>\n",
       "      <td>69</td>\n",
       "    </tr>\n",
       "    <tr>\n",
       "      <th>2</th>\n",
       "      <td>2022</td>\n",
       "      <td>HYUNDAI</td>\n",
       "      <td>ACCENT</td>\n",
       "      <td>2023-10-03</td>\n",
       "      <td>Abha</td>\n",
       "      <td>2023-10-10</td>\n",
       "      <td>0</td>\n",
       "      <td>10196.0</td>\n",
       "      <td>7000.0</td>\n",
       "      <td>17196.0</td>\n",
       "      <td>7</td>\n",
       "    </tr>\n",
       "    <tr>\n",
       "      <th>3</th>\n",
       "      <td>2021</td>\n",
       "      <td>BUS</td>\n",
       "      <td>CS 75</td>\n",
       "      <td>2023-10-15</td>\n",
       "      <td>Abha</td>\n",
       "      <td>2023-10-16</td>\n",
       "      <td>0</td>\n",
       "      <td>9262.0</td>\n",
       "      <td>1600.0</td>\n",
       "      <td>10862.0</td>\n",
       "      <td>1</td>\n",
       "    </tr>\n",
       "    <tr>\n",
       "      <th>4</th>\n",
       "      <td>2021</td>\n",
       "      <td>MAZDA</td>\n",
       "      <td>CX 9</td>\n",
       "      <td>2023-09-17</td>\n",
       "      <td>Abha</td>\n",
       "      <td>2023-10-17</td>\n",
       "      <td>0</td>\n",
       "      <td>4300.0</td>\n",
       "      <td>4000.0</td>\n",
       "      <td>8300.0</td>\n",
       "      <td>30</td>\n",
       "    </tr>\n",
       "  </tbody>\n",
       "</table>\n",
       "</div>"
      ],
      "text/plain": [
       "   Vehicle Make Year Vehicle Make Vehicle Model Claim Reg Date Accident Place  \\\n",
       "0               2019        DODGE       CHARGER     2023-08-02           Abha   \n",
       "1               2023     Mahindra    Scorpio DC     2023-06-14           Abha   \n",
       "2               2022      HYUNDAI        ACCENT     2023-10-03           Abha   \n",
       "3               2021          BUS         CS 75     2023-10-15           Abha   \n",
       "4               2021        MAZDA          CX 9     2023-09-17           Abha   \n",
       "\n",
       "  Operation Assign Date  Portal_OtherAmt  Portal_PartProviderAmt  \\\n",
       "0            2023-08-03              366                  2000.0   \n",
       "1            2023-08-22              494                  3287.0   \n",
       "2            2023-10-10                0                 10196.0   \n",
       "3            2023-10-16                0                  9262.0   \n",
       "4            2023-10-17                0                  4300.0   \n",
       "\n",
       "   Portal_WorkShopAmt    Total  TimeDifference  \n",
       "0               588.0   2954.0               1  \n",
       "1               738.0   4519.0              69  \n",
       "2              7000.0  17196.0               7  \n",
       "3              1600.0  10862.0               1  \n",
       "4              4000.0   8300.0              30  "
      ]
     },
     "execution_count": 18,
     "metadata": {},
     "output_type": "execute_result"
    }
   ],
   "source": [
    "claim_df.head()"
   ]
  },
  {
   "cell_type": "code",
   "execution_count": 19,
   "id": "a193e642-d1ba-40c3-a9a4-28146ef67a71",
   "metadata": {},
   "outputs": [],
   "source": [
    "claim_df.to_csv('processed_claim_data.csv')"
   ]
  },
  {
   "cell_type": "markdown",
   "id": "dab1ed7d-1118-4519-9119-11a9f7f2876f",
   "metadata": {},
   "source": [
    "****"
   ]
  }
 ],
 "metadata": {
  "kernelspec": {
   "display_name": "Python 3 (ipykernel)",
   "language": "python",
   "name": "python3"
  },
  "language_info": {
   "codemirror_mode": {
    "name": "ipython",
    "version": 3
   },
   "file_extension": ".py",
   "mimetype": "text/x-python",
   "name": "python",
   "nbconvert_exporter": "python",
   "pygments_lexer": "ipython3",
   "version": "3.12.4"
  }
 },
 "nbformat": 4,
 "nbformat_minor": 5
}
